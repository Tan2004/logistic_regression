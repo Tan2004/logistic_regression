{
 "cells": [
  {
   "cell_type": "markdown",
   "metadata": {},
   "source": [
    "http://nbviewer.jupyter.org/github/tfolkman/learningwithdata/blob/master/Logistic%20Gradient%20Descent.ipynb\n",
    "    \n",
    "    Logistic regression is an excellent tool to know for classification problems. Classification problems are problems where you are trying to classify observations into groups. To make our examples more concrete, we will consider the Iris dataset. The iris dataset contains 4 attributes for 3 types of iris plants. The purpose is to classify which plant you have just based on the attributes. To simplify things, we will only consider 2 attributes and 2 classes. Here are the data visually:\n"
   ]
  },
  {
   "cell_type": "code",
   "execution_count": 1,
   "metadata": {},
   "outputs": [
    {
     "data": {
      "image/png": "[encoded data removed]",
      "text/plain": [
       "<matplotlib.figure.Figure at 0x2626585f2b0>"
      ]
     },
     "metadata": {},
     "output_type": "display_data"
    }
   ],
   "source": [
    "from sklearn import datasets\n",
    "import matplotlib.pyplot as plt\n",
    "import seaborn as sns\n",
    "%matplotlib inline\n",
    "sns.set(style='ticks', palette='Set2')\n",
    "import pandas as pd\n",
    "import numpy as np\n",
    "import math\n",
    "from __future__ import division\n",
    "\n",
    "data = datasets.load_iris()\n",
    "X = data.data[:100, :2]\n",
    "y = data.target[:100]\n",
    "X_full = data.data[:100, :]\n",
    "\n",
    "setosa = plt.scatter(X[:50,0], X[:50,1], c='b')\n",
    "versicolor = plt.scatter(X[50:,0], X[50:,1], c='r')\n",
    "plt.xlabel(\"Sepal Length\")\n",
    "plt.ylabel(\"Sepal Width\")\n",
    "plt.legend((setosa, versicolor), (\"Setosa\", \"Versicolor\"))\n",
    "sns.despine()"
   ]
  },
  {
   "cell_type": "markdown",
   "metadata": {},
   "source": [
    "# Wow! \n",
    "This is nice - the two classes are completely separate. Now this obviously is a toy example, but let's now think about how to create a learning algorithm to give us the probability that given Sepal Width and Sepal Length the plant is Setosa. So if our algorithm returns .9 we place 90% probability on the plant being Setosa and 10% probability on it being Versicolor.\n",
    "Logisitic Function\n",
    "\n",
    "So we want to return a value between 0 and 1 to make sure we are actually representing a probability. To do this we will make use of the logistic function. The logistic function mathematically looks like this:\n",
    "y=11+e−x\n",
    "\n",
    "Let's take a look at the plot:"
   ]
  },
  {
   "cell_type": "code",
   "execution_count": 2,
   "metadata": {},
   "outputs": [
    {
     "data": {
      "image/png": "[encoded data removed]",
      "text/plain": [
       "<matplotlib.figure.Figure at 0x26263e5bac8>"
      ]
     },
     "metadata": {},
     "output_type": "display_data"
    }
   ],
   "source": [
    "x_values = np.linspace(-5, 5, 100)\n",
    "y_values = [1 / (1 + math.e**(-x)) for x in x_values]\n",
    "plt.plot(x_values, y_values)\n",
    "plt.axhline(.5)\n",
    "plt.axvline(0)\n",
    "sns.despine()"
   ]
  },
  {
   "cell_type": "markdown",
   "metadata": {},
   "source": [
    "You can see why this is a great function for a probability measure. The y-value represents the probability and only ranges between 0 and 1. Also, for an x value of zero you get a .5 probability and as you get more positive x values you get a higher probability and more negative x values a lower probability.\n",
    "Make use of your data\n",
    "\n",
    "Okay - so this is nice, but how the heck do we use it? Well we know we have two attributes - Sepal length and Sepal width - that we need to somehow use in our logistic function. One pretty obvious thing we could do is:\n",
    "\n",
    "x=β0+β1SW+β2SL\n",
    "\n",
    "Where SW is our value for sepal width and SL is our value for sepal length. For those of you familiar with Linear Regression this looks very familiar. Basically we are assuming that x is a linear combination of our data plus an intercept. For example, say we have a plant with a sepal width of 3.5 and a sepal length of 5 and some oracle tells us that β0=1\n",
    ", β1=2, and β2=4\n",
    "\n",
    ". This would imply:\n",
    "\n",
    "x=1+(2∗3.5)+(4∗5)=28\n",
    "\n",
    "Plugging this into our logistic function gives:\n",
    "\n",
    "11+e−28=.99\n",
    "\n",
    "So we would give a 99% probability to a plant with those dimensions as being Setosa.\n",
    "Learning\n",
    "\n",
    "Okay - makes sense. But who is this oracle giving us our β\n",
    "values? Good question! This is where the learning in machine learning comes in :). We will learn our β\n",
    "\n",
    "values.\n",
    "Step 1 - Define your cost function\n",
    "\n",
    "If you have been around machine learning, you probably hear the phrase \"cost function\" thrown around. Before we get to that, though, let's do some thinking. We are trying to choose β\n",
    "values in order to maximize the probability of correctly classifying our plants. That is just the definition of our problem. Let's say someone did give us some β\n",
    "\n",
    "values, how would we determine if they were good values or not? We saw above how to get the probability for one example. Now imagine we did this for all our plant observations - all 100. We would now have 100 probability scores. What we would hope is that for the Setosa plants, the probability values are close to 1 and for the Versicolor plants the probability is close to 0.\n",
    "\n",
    "But we don't care about getting the correct probability for just one observation, we want to correctly classify all our observations. If we assume our data are independent and identically distributed, we can just take the product of all our individually calculated probabilities and that is the value we want to maximize. So in math:\n",
    "∏Setosa11+e−(β0+β1SW+β2SL)∏Versicolor1−11+e−(β0+β1SW+β2SL)\n",
    "If we define the logistic function as:\n",
    "h(x)=11+e−x\n",
    "and x as:\n",
    "x=β0+β1SW+β2SL\n",
    "This can be simplified to:\n",
    "∏Setosah(x)∏Versicolor1−h(x)\n",
    "\n",
    "The ∏\n",
    "symbol means take the product for the observations classified as that plant. Here we are making use of the fact that are data are labeled, so this is called supervised learning. Also, you will notice that for Versicolor observations we are taking 1 minus the logistic function. That is because we are trying to find a value to maximize, and since Versicolor observations should have a probability close to zero, 1 minus the probability should be close to 1. So now we know that we want to maximize the following:\n",
    "∏Setosah(x)∏Versicolor1−h(x)\n",
    "\n",
    "So we now have a value we are trying to maximize. Typically people switch this to minimization by making it negative:\n",
    "−∏Setosah(x)∏Versicolor1−h(x)\n",
    "\n",
    "Note: minimizing the negative is the same as maximizing the positive. The above formula would be called our cost function.\n",
    "Step 2 - Gradients\n",
    "\n",
    "So now we have a value to minimize, but how do we actually find the β\n",
    "\n",
    "values that minimize our cost function? Do we just try a bunch? That doesn't seem like a good idea...\n",
    "\n",
    "This is where convex optimization comes into play. We know that the logistic cost function is convex - just trust me on this. And since it is convex, it has a single global minimum which we can converge to using gradient descent.\n",
    "\n",
    "Here is an image of a convex function:\n",
    "\n",
    "from IPython.display import Image\n",
    "Image(url=\"http://www.me.utexas.edu/~jensen/ORMM/models/unit/nonlinear/subunits/terminology/graphics/convex1.gif\")\n",
    "\n",
    "Now you can imagine, that this curve is our cost function defined above and that if we just pick a point on the curve, and then follow it down to the minimum we would eventually reach the minimum, which is our goal. Here is an animation of that. That is the idea behind gradient descent.\n",
    "\n",
    "So the way we follow the curve is by calculating the gradients or the first derivatives of the cost function with respect to each β\n",
    "\n",
    ". So lets do some math. First realize that we can also define the cost function as:\n",
    "\n",
    "−∑i=1100yilog(h(xi))+(1−yi)log(1−h(xi))\n",
    "\n",
    "This is because when we take the log our product becomes a sum. See log rules. And if we define yi\n",
    "to be 1 when the observation is Setosa and 0 when Versicolor, then we only do h(x) for Setosa and 1 - h(x) for Versicolor. So lets take the derivative of this new version of our cost function with respect to β0. Remember that our β0 is in our x value. So remember that the derivative of log(x) is 1x\n",
    "\n",
    ", so we get (for each observation):\n",
    "\n",
    "yih(xi)+1−yi1−h(xi)\n",
    "\n",
    "And using the quotient rule we see that the derivative of h(x) is:\n",
    "\n",
    "e−x(1+e−x)2=11+e−x(1−11+e−x)=h(x)(1−h(x))\n",
    "\n",
    "And the derivative of x with respect to β0\n",
    "\n",
    "is just 1. Putting it all together we get:\n",
    "\n",
    "yih(xi)(1−h(xi))h(xi)−(1−yi)h(xi)(1−h(xi))1−h(xi)\n",
    "\n",
    "Simplify to:\n",
    "\n",
    "yi(1−h(xi))−(1−yi)h(xi)=yi−yih(xi)−h(xi)+yih(xi)=yi−h(xi)\n",
    "\n",
    "Bring in the neative and sum and we get the partial derivative with respect to β0\n",
    "\n",
    "to be:\n",
    "\n",
    "∑i=1100h(xi)−yi\n",
    "\n",
    "Now the other partial derivaties are easy. The only change is now the derivative for xi\n",
    "is no longer 1. For β1 it is SWi and for β2 it is SLi. So the partial derivative for β1\n",
    "\n",
    "is:\n",
    "\n",
    "∑i=1100(h(xi)−yi)SWi\n",
    "\n",
    "For β2\n",
    "\n",
    ":\n",
    "\n",
    "∑i=1100(h(xi)−yi)SLi\n",
    "\n",
    "Step 3 - Gradient Descent\n",
    "\n",
    "So now that we have our gradients, we can use the gradient descent algorithm to find the values for our β\n",
    "\n",
    "s that minimize our cost function. The gradient descent algorithm is very simple:\n",
    "\n",
    "    Initially guess any values for your β\n",
    "\n",
    "values\n",
    "Repeat until converge:\n",
    "\n",
    "    βi=βi−(α∗\n",
    "\n",
    "gradient with respect to βi) for i=0,1,2\n",
    "\n",
    "        in our case\n",
    "\n",
    "Here α\n",
    "is our learning rate. Basically how large of steps to take on our cost curve. What we are doing is taking our current β value and then subtracting some fraction of the gradient. We subtract because the gradient is the direction of greatest increase, but we want the direction of greatest decrease, so we subtract. In other words, we pick a random point on our cost curve, check to see which direction we need to go to get closer to the minimum by using the negative of the gradient, and then update our β values to move closer to the minimum. Repeat until converge means keep updating our β values until our cost value converges - or stops decreasing - meaning we have reached the minimum. Also, it is important to update all the β values at the same time. Meaning that you use the same previous β values to update all the next β\n",
    "\n",
    "values.\n",
    "Gradient Descent Tricks\n",
    "\n",
    "I think most of this are from Andrew Ng's machine learning course\n",
    "\n",
    "    Normalize variables:\n",
    "        This means for each variable subtract the mean and divide by standard deviation.\n",
    "    Learning rate:\n",
    "        If not converging, the learning rate needs to be smaller - but will take longer to converge\n",
    "        Good values to try ..., .001, .003, .01, .03, .1, .3, 1, 3, ...\n",
    "    Declare converges if cost decreases by less than 10−3\n",
    "\n",
    "    (this is just a decent suggestion)\n",
    "    Plot convergence as a check\n",
    "\n",
    "Lets see some code\n",
    "\n",
    "Below is code that implements everything we discussed. It is vectorized, though, so things are represented as vectors and matricies. It should still be fairly clear what is going on (I hope...if not, please let me know and I can put out a version closer to the math). Also, I didn't implement an intercept (so no β0\n",
    "\n",
    ") feel free to add this if you wish :)"
   ]
  },
  {
   "cell_type": "code",
   "execution_count": null,
   "metadata": {
    "collapsed": true
   },
   "outputs": [],
   "source": []
  },
  {
   "cell_type": "code",
   "execution_count": 3,
   "metadata": {
    "collapsed": true
   },
   "outputs": [],
   "source": [
    "def logistic_func(theta, x):\n",
    "    return float(1) / (1 + math.e**(-x.dot(theta)))\n",
    "\n",
    "def log_gradient(theta, x, y):\n",
    "    first_calc = logistic_func(theta, x) - np.squeeze(y)\n",
    "    final_calc = first_calc.T.dot(x)\n",
    "    return final_calc\n",
    "\n",
    "def cost_func(theta, x, y):\n",
    "    log_func_v = logistic_func(theta,x)\n",
    "    y = np.squeeze(y)\n",
    "    step1 = y * np.log(log_func_v)\n",
    "    step2 = (1-y) * np.log(1 - log_func_v)\n",
    "    final = -step1 - step2\n",
    "    return np.mean(final)"
   ]
  },
  {
   "cell_type": "code",
   "execution_count": 4,
   "metadata": {
    "collapsed": true
   },
   "outputs": [],
   "source": [
    "def grad_desc(theta_values, X, y, lr=.001, converge_change=.001):\n",
    "    #normalize\n",
    "    X = (X - np.mean(X, axis=0)) / np.std(X, axis=0)\n",
    "    #setup cost iter\n",
    "    cost_iter = []\n",
    "    cost = cost_func(theta_values, X, y)\n",
    "    cost_iter.append([0, cost])\n",
    "    change_cost = 1\n",
    "    i = 1\n",
    "    while(change_cost > converge_change):\n",
    "        old_cost = cost\n",
    "        theta_values = theta_values - (lr * log_gradient(theta_values, X, y))\n",
    "        cost = cost_func(theta_values, X, y)\n",
    "        cost_iter.append([i, cost])\n",
    "        change_cost = old_cost - cost\n",
    "        i+=1\n",
    "    return theta_values, np.array(cost_iter)\n",
    "\n",
    "def pred_values(theta, X, hard=True):\n",
    "    #normalize\n",
    "    X = (X - np.mean(X, axis=0)) / np.std(X, axis=0)\n",
    "    pred_prob = logistic_func(theta, X)\n",
    "    pred_value = np.where(pred_prob >= .5, 1, 0)\n",
    "    if hard:\n",
    "        return pred_value\n",
    "    return pred_prob"
   ]
  },
  {
   "cell_type": "code",
   "execution_count": 5,
   "metadata": {},
   "outputs": [
    {
     "name": "stdout",
     "output_type": "stream",
     "text": [
      "betas= [ 0.2  0.3]\n",
      "X.dot(betas).dtype= float64\n",
      "X.dot(betas)= [ 2.07  1.88  1.9   1.85  2.08  2.25  1.94  2.02  1.75  1.91  2.19  1.98\n",
      "  1.86  1.76  2.36  2.46  2.25  2.07  2.28  2.16  2.1   2.13  2.    2.01\n",
      "  1.98  1.9   2.02  2.09  2.06  1.9   1.89  2.1   2.27  2.36  1.91  1.96\n",
      "  2.15  1.91  1.78  2.04  2.05  1.59  1.84  2.05  2.16  1.86  2.16  1.88\n",
      "  2.17  1.99  2.36  2.24  2.31  1.79  2.14  1.98  2.25  1.7   2.19  1.85\n",
      "  1.6   2.08  1.86  2.09  1.99  2.27  2.02  1.97  1.9   1.87  2.14  2.06\n",
      "  2.01  2.06  2.15  2.22  2.2   2.24  2.07  1.92  1.82  1.82  1.97  2.01\n",
      "  1.98  2.22  2.27  1.95  2.02  1.85  1.88  2.12  1.94  1.69  1.93  2.04\n",
      "  2.01  2.11  1.77  1.98]\n",
      "X= [[ 5.1  3.5]\n",
      " [ 4.9  3. ]\n",
      " [ 4.7  3.2]\n",
      " [ 4.6  3.1]\n",
      " [ 5.   3.6]]\n",
      "X.shape= (100, 2)\n",
      "L= [ 0.88795296  0.86761113  0.86989153  0.8641271   0.88894403  0.90465054\n",
      "  0.87435214  0.88288101  0.8519528   0.87101915  0.89934791  0.87868116\n",
      "  0.86529695  0.85320966  0.91372581  0.92128966  0.90465054  0.88795296\n",
      "  0.90720705  0.89659955  0.89090318  0.89378501  0.88079708  0.88184302\n",
      "  0.87868116  0.86989153  0.88288101  0.88992743  0.88695417  0.86989153\n",
      "  0.86875553  0.89090318  0.90636179  0.91372581  0.87101915  0.87653295\n",
      "  0.89566878  0.87101915  0.85569687  0.88493327  0.88594762  0.8306161\n",
      "  0.86294871  0.88594762  0.89659955  0.86529695  0.89659955  0.86761113\n",
      "  0.89752297  0.87974314  0.91372581  0.90378446  0.90970186  0.85692728\n",
      "  0.89473061  0.87868116  0.90465054  0.84553473  0.89934791  0.8641271\n",
      "  0.83201839  0.88894403  0.86529695  0.88992743  0.87974314  0.90636179\n",
      "  0.88288101  0.87761111  0.86989153  0.86645828  0.89473061  0.88695417\n",
      "  0.88184302  0.88695417  0.89566878  0.9020312   0.90024951  0.90378446\n",
      "  0.88795296  0.87213843  0.86056613  0.86056613  0.87761111  0.88184302\n",
      "  0.87868116  0.9020312   0.90636179  0.87544664  0.88288101  0.8641271\n",
      "  0.86761113  0.89283193  0.87435214  0.84422416  0.87324942  0.88493327\n",
      "  0.88184302  0.89187133  0.85445767  0.87868116]\n",
      "[ True  True  True  True  True  True  True  True  True  True  True  True\n",
      "  True  True  True  True  True  True  True  True  True  True  True  True\n",
      "  True  True  True  True  True  True  True  True  True  True  True  True\n",
      "  True  True  True  True  True  True  True  True  True  True  True  True\n",
      "  True  True False False False False False False False False False False\n",
      " False False False False False False False False False False False False\n",
      " False False False False False False False False False False False False\n",
      " False False False False False False False False False False False False\n",
      " False False False False]\n",
      "[ 0.88795296  0.86761113  0.86989153  0.8641271   0.88894403  0.90465054\n",
      "  0.87435214  0.88288101  0.8519528   0.87101915  0.89934791  0.87868116\n",
      "  0.86529695  0.85320966  0.91372581  0.92128966  0.90465054  0.88795296\n",
      "  0.90720705  0.89659955  0.89090318  0.89378501  0.88079708  0.88184302\n",
      "  0.87868116  0.86989153  0.88288101  0.88992743  0.88695417  0.86989153\n",
      "  0.86875553  0.89090318  0.90636179  0.91372581  0.87101915  0.87653295\n",
      "  0.89566878  0.87101915  0.85569687  0.88493327  0.88594762  0.8306161\n",
      "  0.86294871  0.88594762  0.89659955  0.86529695  0.89659955  0.86761113\n",
      "  0.89752297  0.87974314  0.91372581  0.90378446  0.90970186  0.85692728\n",
      "  0.89473061  0.87868116  0.90465054  0.84553473  0.89934791  0.8641271\n",
      "  0.83201839  0.88894403  0.86529695  0.88992743  0.87974314  0.90636179\n",
      "  0.88288101  0.87761111  0.86989153  0.86645828  0.89473061  0.88695417\n",
      "  0.88184302  0.88695417  0.89566878  0.9020312   0.90024951  0.90378446\n",
      "  0.88795296  0.87213843  0.86056613  0.86056613  0.87761111  0.88184302\n",
      "  0.87868116  0.9020312   0.90636179  0.87544664  0.88288101  0.8641271\n",
      "  0.86761113  0.89283193  0.87435214  0.84422416  0.87324942  0.88493327\n",
      "  0.88184302  0.89187133  0.85445767  0.87868116]\n"
     ]
    }
   ],
   "source": [
    "shape = X.shape[1]\n",
    "y_flip = np.logical_not(y) #flip Setosa to be 1 and Versicolor to zero to be consistent\n",
    "betas =np.array( [0.2,0.3]) #np.zeros(shape)\n",
    "L=logistic_func(betas, X)\n",
    "#G= log_gradient(betas, X, y_flip )\n",
    "print('betas=', betas)\n",
    "print('X.dot(betas).dtype=',X.dot(betas).dtype)\n",
    "print('X.dot(betas)=',X.dot(betas))\n",
    "#print('betas.dot(X)=',betas.dot(X)\n",
    "print('X=',X[0:5,])\n",
    "print('X.shape=',X.shape)\n",
    "print('L=',L)\n",
    "print(y_flip)\n",
    "print(L)\n"
   ]
  },
  {
   "cell_type": "code",
   "execution_count": 6,
   "metadata": {},
   "outputs": [
    {
     "data": {
      "text/plain": [
       "array([ 2.07,  1.88,  1.9 ,  1.85,  2.08,  2.25,  1.94,  2.02,  1.75,\n",
       "        1.91,  2.19,  1.98,  1.86,  1.76,  2.36,  2.46,  2.25,  2.07,\n",
       "        2.28,  2.16,  2.1 ,  2.13,  2.  ,  2.01,  1.98,  1.9 ,  2.02,\n",
       "        2.09,  2.06,  1.9 ,  1.89,  2.1 ,  2.27,  2.36,  1.91,  1.96,\n",
       "        2.15,  1.91,  1.78,  2.04,  2.05,  1.59,  1.84,  2.05,  2.16,\n",
       "        1.86,  2.16,  1.88,  2.17,  1.99,  2.36,  2.24,  2.31,  1.79,\n",
       "        2.14,  1.98,  2.25,  1.7 ,  2.19,  1.85,  1.6 ,  2.08,  1.86,\n",
       "        2.09,  1.99,  2.27,  2.02,  1.97,  1.9 ,  1.87,  2.14,  2.06,\n",
       "        2.01,  2.06,  2.15,  2.22,  2.2 ,  2.24,  2.07,  1.92,  1.82,\n",
       "        1.82,  1.97,  2.01,  1.98,  2.22,  2.27,  1.95,  2.02,  1.85,\n",
       "        1.88,  2.12,  1.94,  1.69,  1.93,  2.04,  2.01,  2.11,  1.77,  1.98])"
      ]
     },
     "execution_count": 6,
     "metadata": {},
     "output_type": "execute_result"
    }
   ],
   "source": [
    "X.dot(betas)\n"
   ]
  },
  {
   "cell_type": "markdown",
   "metadata": {},
   "source": [
    "Put it to the test\n",
    "\n",
    "So here I will use the above code for our toy example. I initalize our β\n",
    "values to all be zero, then run gradient descent to learn the β\n",
    "\n",
    "values."
   ]
  },
  {
   "cell_type": "code",
   "execution_count": 7,
   "metadata": {},
   "outputs": [
    {
     "name": "stdout",
     "output_type": "stream",
     "text": [
      "[-1.52645347  1.39922382]\n"
     ]
    }
   ],
   "source": [
    "shape = X.shape[1]\n",
    "y_flip = np.logical_not(y) #flip Setosa to be 1 and Versicolor to zero to be consistent\n",
    "betas = np.zeros(shape)\n",
    "fitted_values, cost_iter = grad_desc(betas, X, y_flip)\n",
    "print(fitted_values)\n",
    "\n",
    "#[-1.52645347  1.39922382]"
   ]
  },
  {
   "cell_type": "markdown",
   "metadata": {},
   "source": [
    "So I get a value of -1.5 for β1\n",
    "and a value of 1.4 for β2. Remember that β1 is my coefficient for Sepal Length and β2\n",
    "\n",
    "for Sepal Width. Meaning that as sepal width becomes larger I would have a stronger prediction for Setosa and as Sepal Length becomes larger I have more confidence it the plant being Versicolor. Which makes sense when looking at our earlier plot.\n",
    "\n",
    "Now let's make some predictions (Note: since we are returning a probability, if the probability is greater than or equal to 50% then I assign the value to Setosa - or a value of 1):"
   ]
  },
  {
   "cell_type": "code",
   "execution_count": 8,
   "metadata": {},
   "outputs": [
    {
     "data": {
      "text/plain": [
       "array([1, 1, 1, 1, 1, 1, 1, 1, 1, 1, 1, 1, 1, 1, 1, 1, 1, 1, 1, 1, 1, 1, 1,\n",
       "       1, 1, 1, 1, 1, 1, 1, 1, 1, 1, 1, 1, 1, 1, 1, 1, 1, 1, 0, 1, 1, 1, 1,\n",
       "       1, 1, 1, 1, 0, 0, 0, 0, 0, 0, 0, 0, 0, 0, 0, 0, 0, 0, 0, 0, 0, 0, 0,\n",
       "       0, 0, 0, 0, 0, 0, 0, 0, 0, 0, 0, 0, 0, 0, 0, 0, 0, 0, 0, 0, 0, 0, 0,\n",
       "       0, 0, 0, 0, 0, 0, 0, 0])"
      ]
     },
     "execution_count": 8,
     "metadata": {},
     "output_type": "execute_result"
    }
   ],
   "source": [
    "predicted_y = pred_values(fitted_values, X)\n",
    "predicted_y"
   ]
  },
  {
   "cell_type": "code",
   "execution_count": 9,
   "metadata": {},
   "outputs": [
    {
     "ename": "SyntaxError",
     "evalue": "invalid syntax (<ipython-input-9-c8eb451c9705>, line 7)",
     "output_type": "error",
     "traceback": [
      "\u001b[1;36m  File \u001b[1;32m\"<ipython-input-9-c8eb451c9705>\"\u001b[1;36m, line \u001b[1;32m7\u001b[0m\n\u001b[1;33m    And let's see how accurate we are:\u001b[0m\n\u001b[1;37m          ^\u001b[0m\n\u001b[1;31mSyntaxError\u001b[0m\u001b[1;31m:\u001b[0m invalid syntax\n"
     ]
    }
   ],
   "source": [
    "array([1, 1, 1, 1, 1, 1, 1, 1, 1, 1, 1, 1, 1, 1, 1, 1, 1, 1, 1, 1, 1, 1, 1,\n",
    "       1, 1, 1, 1, 1, 1, 1, 1, 1, 1, 1, 1, 1, 1, 1, 1, 1, 1, 0, 1, 1, 1, 1,\n",
    "       1, 1, 1, 1, 0, 0, 0, 0, 0, 0, 0, 0, 0, 0, 0, 0, 0, 0, 0, 0, 0, 0, 0,\n",
    "       0, 0, 0, 0, 0, 0, 0, 0, 0, 0, 0, 0, 0, 0, 0, 0, 0, 0, 0, 0, 0, 0, 0,\n",
    "       0, 0, 0, 0, 0, 0, 0, 0])\n",
    "\n",
    "And let's see how accurate we are:\n",
    "\n",
    "np.sum(y_flip == predicted_y)"
   ]
  },
  {
   "cell_type": "code",
   "execution_count": null,
   "metadata": {
    "collapsed": true
   },
   "outputs": [],
   "source": [
    "Cool - we got all but 1 right. So that is pretty good. But again note: this is a very simple example, where getting all correct is actually pretty easy and we are looking at training accuracy. But that is not the point - we just want to make sure our algorithm is working.\n",
    "\n",
    "We can do another check by taking a look at how our gradient descent converged:\n",
    "\n",
    "plt.plot(cost_iter[:,0], cost_iter[:,1])\n",
    "plt.ylabel(\"Cost\")\n",
    "plt.xlabel(\"Iteration\")\n",
    "sns.despine()\n",
    "\n",
    "You can see that as we ran our algorithm, we continued to decrease our cost function and we stopped right at about when we see the decrease in cost to level out. Nice - everything seems to be working!\n",
    "\n",
    "Lastly, another nice check is to see how well a packaged version of the algorithm does:\n",
    "\n",
    "from sklearn import linear_model\n",
    "logreg = linear_model.LogisticRegression()\n",
    "logreg.fit(X, y_flip)\n",
    "sum(y_flip == logreg.predict(X))\n",
    "\n",
    "99\n",
    "\n",
    "Cool - they also get 99 / 100 correct. Looking good :)\n",
    "Advanced Optimization\n",
    "\n",
    "So gradient descent is one way to learn our β\n",
    "\n",
    "values, but there are some other ways too. Basically these are more advanced algorithms that I won't explain, but that can be easily run in Python once you have defined your cost function and your gradients. These algorithms are:\n",
    "\n",
    "    BFGS\n",
    "        http://docs.scipy.org/doc/scipy-0.14.0/reference/generated/scipy.optimize.fmin_bfgs.html\n",
    "    L-BFGS: Like BFGS but uses limited memory\n",
    "        http://docs.scipy.org/doc/scipy/reference/generated/scipy.optimize.fmin_l_bfgs_b.html\n",
    "    Conjugate Gradient\n",
    "        http://docs.scipy.org/doc/scipy/reference/generated/scipy.optimize.fmin_cg.html\n",
    "\n",
    "Here are the very high level advantages / disadvantages of using one of these algorithms over gradient descent:\n",
    "\n",
    "    Advantages\n",
    "        Don't need to pick learning rate\n",
    "        Often run faster (not always the case)\n",
    "        Can numerically approximate gradient for you (doesn't always work out well)\n",
    "    Disadvantages\n",
    "        More complex\n",
    "        More of a black box unless you learn the specifics\n",
    "\n",
    "The one I hear most about these days is L-BFGS, so I will use it as my example. To use the others, all you do is replace the scipy function with the one in the links above. All the arguments remain the same. Also, I will now use all 4 features as opposed to just 2.\n",
    "L-BFGS\n",
    "\n",
    "from scipy.optimize import fmin_l_bfgs_b\n",
    "#normalize data\n",
    "norm_X = (X_full - np.mean(X_full, axis=0)) / np.std(X_full, axis=0)\n",
    "myargs = (norm_X, y_flip)\n",
    "betas = np.zeros(norm_X.shape[1])\n",
    "lbfgs_fitted = fmin_l_bfgs_b(cost_func, x0=betas, args=myargs, fprime=log_gradient)\n",
    "lbfgs_fitted[0]\n",
    "\n",
    "array([ -1.39630462,   5.3512917 ,  -9.41860088, -10.84876254])\n",
    "\n",
    "Above are the β\n",
    "\n",
    "values we have learned. Now let's make some predictions.\n",
    "\n",
    "lbfgs_predicted = pred_values(lbfgs_fitted[0], norm_X, hard=True)\n",
    "sum(lbfgs_predicted == y_flip)\n",
    "\n",
    "100\n",
    "\n",
    "A perfect 100 - not bad.\n",
    "Compare with Scikit-Learn\n",
    "\n",
    "from sklearn import linear_model\n",
    "logreg = linear_model.LogisticRegression()\n",
    "logreg.fit(norm_X, y_flip)\n",
    "sum(y_flip == logreg.predict(norm_X))\n",
    "\n",
    "100\n",
    "\n",
    "Compare with our implementation\n",
    "\n",
    "fitted_values, cost_iter = grad_desc(betas, norm_X, y_flip)\n",
    "predicted_y = pred_values(fitted_values, norm_X)\n",
    "sum(predicted_y == y_flip)\n",
    "\n",
    "100\n",
    "\n",
    "So with all 4 features we all get a perfect accuracy, which is to be expected given that the classes are linearlly seperable. So no surprise here, but it is nice to know things are working :). Note: This example doesn't really let L-BFGS shine. The purpose of this post, though, isn't to evaluate advanced optimization techniques. If this is your interest try running some tests with much larger data with many more features and less seperable classes.\n",
    "Conclusion\n",
    "\n",
    "I hope this little tutorial helped you understand in some depth logistic regression. It is a powerful tool that is good to know. It can even become more powerful with things like regularization.\n",
    "\n",
    "Even more so, I hope this helped explain the steps of how a learning algorithm might be designed. Having a grasp on what a cost function is and how to minimize it with techniques such as gradient descent can really help understand some of the machine learning literature.\n",
    "\n",
    "Anyway - if you have any questions or comments. I would love to hear them!"
   ]
  },
  {
   "cell_type": "code",
   "execution_count": null,
   "metadata": {
    "collapsed": true
   },
   "outputs": [],
   "source": []
  },
  {
   "cell_type": "code",
   "execution_count": null,
   "metadata": {
    "collapsed": true
   },
   "outputs": [],
   "source": []
  }
 ],
 "metadata": {
  "kernelspec": {
   "display_name": "Python 3",
   "language": "python",
   "name": "python3"
  },
  "language_info": {
   "codemirror_mode": {
    "name": "ipython",
    "version": 3
   },
   "file_extension": ".py",
   "mimetype": "text/x-python",
   "name": "python",
   "nbconvert_exporter": "python",
   "pygments_lexer": "ipython3",
   "version": "3.6.3"
  },
  "toc": {
   "base_numbering": 1,
   "nav_menu": {},
   "number_sections": true,
   "sideBar": true,
   "skip_h1_title": false,
   "title_cell": "Table of Contents",
   "title_sidebar": "Contents",
   "toc_cell": false,
   "toc_position": {},
   "toc_section_display": true,
   "toc_window_display": false
  },
  "varInspector": {
   "cols": {
    "lenName": 16,
    "lenType": 16,
    "lenVar": 40
   },
   "kernels_config": {
    "python": {
     "delete_cmd_postfix": "",
     "delete_cmd_prefix": "del ",
     "library": "var_list.py",
     "varRefreshCmd": "print(var_dic_list())"
    },
    "r": {
     "delete_cmd_postfix": ") ",
     "delete_cmd_prefix": "rm(",
     "library": "var_list.r",
     "varRefreshCmd": "cat(var_dic_list()) "
    }
   },
   "types_to_exclude": [
    "module",
    "function",
    "builtin_function_or_method",
    "instance",
    "_Feature"
   ],
   "window_display": false
  }
 },
 "nbformat": 4,
 "nbformat_minor": 2
}
