{
 "cells": [
  {
   "cell_type": "markdown",
   "metadata": {},
   "source": [
    "# Array operation"
   ]
  },
  {
   "cell_type": "code",
   "execution_count": 6,
   "metadata": {},
   "outputs": [
    {
     "name": "stdout",
     "output_type": "stream",
     "text": [
      "a= [0 1 2 3 4]\n",
      "b= [3 5 7]\n",
      "a1= [1 2 3 4 5]\n",
      "c= [ 1.   1.5  2.   2.5  3.   3.5  4.   4.5  5.   5.5  6.   6.5  7.   7.5  8.\n",
      "  8.5  9.   9.5]   c.shape= (18,)\n",
      "len= 18\n",
      "siz= 18\n",
      "a1 type is <class 'numpy.ndarray'>\n",
      "range1 type is <class 'range'>\n",
      "range(1, 16, 2)\n",
      "1,3,5,7,9,11,13,15,"
     ]
    }
   ],
   "source": [
    "import numpy as np\n",
    "import math\n",
    "a =np.array(range(5))\n",
    "print ('a=',a)\n",
    "\n",
    "b =np.array(range(3,9,2))\n",
    "print('b=',b)\n",
    "       \n",
    "#better use arange\n",
    "\n",
    "a1 =np.arange(1,6)\n",
    "print ('a1=',a1)\n",
    "c=np.arange(1,10,0.5)\n",
    "print('c=',c, '  c.shape=', c.shape)\n",
    "print('len=',len(c))\n",
    "\n",
    "#c.len\n",
    "print('siz=',c.size)\n",
    "\n",
    "\n",
    "print('a1 type is', type(a1))\n",
    "range1 = range(1,16,2)\n",
    "print('range1 type is', type(range1))\n",
    "print (range1)\n",
    "for i in range1: print(i,end =',')"
   ]
  },
  {
   "cell_type": "code",
   "execution_count": 8,
   "metadata": {},
   "outputs": [
    {
     "name": "stdout",
     "output_type": "stream",
     "text": [
      "[False False False False False]\n",
      "[ True  True  True  True  True]\n",
      "False\n",
      "True\n"
     ]
    }
   ],
   "source": [
    "#comparison\n",
    "ab = (a==a1)\n",
    "print(ab)\n",
    "aa = (a==a)\n",
    "print(aa)\n",
    "\n",
    "\n",
    "\n",
    "#array wise comparison\n",
    "ab_=np.array_equal(a, b)\n",
    "print(ab_)\n",
    "aa_=np.array_equal(a,a )\n",
    "print(aa_)"
   ]
  },
  {
   "cell_type": "code",
   "execution_count": 15,
   "metadata": {
    "scrolled": false
   },
   "outputs": [
    {
     "name": "stdout",
     "output_type": "stream",
     "text": [
      "<class 'range'>\n",
      "1 5\n",
      "0,1,2,3,4,5,0,1,2,3,4,5,\n",
      "<class 'numpy.ndarray'>\n",
      "0,1,2,3,4,5,"
     ]
    }
   ],
   "source": [
    "ar=range(6)\n",
    "print(type(ar))\n",
    "#print(next(ar))\n",
    "print(ar[1],ar[5])\n",
    "\n",
    "#print(ar[i],end=',') for i in ar #does not work\n",
    "for i in ar:print(ar[i],end=',')\n",
    "\n",
    "for i in ar:\n",
    "    print(ar[i],end=',')\n",
    "\n",
    "print('')\n",
    "#array_1=[i*i for for i in ar]    #error\n",
    "array_1=np.array(ar)\n",
    "print(type(array_1))\n",
    "for i in range(len(array_1)) : print(array_1[i],end=',')"
   ]
  },
  {
   "cell_type": "code",
   "execution_count": 17,
   "metadata": {},
   "outputs": [
    {
     "name": "stdout",
     "output_type": "stream",
     "text": [
      "1,11,21,31,41,51,61,71,81,91,"
     ]
    },
    {
     "data": {
      "text/plain": [
       "[1, 11, 21, 31, 41, 51, 61, 71, 81, 91]"
      ]
     },
     "execution_count": 17,
     "metadata": {},
     "output_type": "execute_result"
    }
   ],
   "source": [
    "# to create a list using range()\n",
    "L1=list(range(1,100,10))\n",
    "for i in range(len(L1)):print(L1[i],end=',')\n",
    "L1"
   ]
  },
  {
   "cell_type": "raw",
   "metadata": {},
   "source": []
  },
  {
   "cell_type": "code",
   "execution_count": 16,
   "metadata": {
    "scrolled": true
   },
   "outputs": [
    {
     "name": "stdout",
     "output_type": "stream",
     "text": [
      "a= [ True  True False False]\n",
      "b= [1 0 1 0]\n",
      "ab_or= [ True  True  True False]\n",
      "ab_and= [ True False False False]\n"
     ]
    }
   ],
   "source": [
    "a=np.array([1,2,0,0],dtype=bool)\n",
    "print ('a=',a)\n",
    "b=np.array([1, 0, 1, 0])\n",
    "print ('b=',b)\n",
    "ab_or=np.logical_or(a,b)\n",
    "print('ab_or=',ab_or)\n",
    "ab_and=np.logical_and(a,b)\n",
    "print('ab_and=',ab_and)"
   ]
  },
  {
   "cell_type": "code",
   "execution_count": 18,
   "metadata": {},
   "outputs": [
    {
     "name": "stdout",
     "output_type": "stream",
     "text": [
      "c= [[ 1.   1.5  2.   2.5  3.   3.5]\n",
      " [ 4.   4.5  5.   5.5  6.   6.5]\n",
      " [ 7.   7.5  8.   8.5  9.   9.5]]   c.shape= (3, 6)\n",
      "d= [[ 1.   1.5  2.   2.5  3.   3.5]\n",
      " [ 4.   4.5  5.   5.5  6.   6.5]\n",
      " [ 7.   7.5  8.   8.5  9.   9.5]] \n",
      " d.shape= (3, 6)\n"
     ]
    }
   ],
   "source": [
    "# reshape\n",
    "c = np.reshape(c,(3,6))\n",
    "print('c=',c, '  c.shape=', c.shape)\n",
    "\n",
    "d=np.arange(1,10,0.5).reshape(3,6)\n",
    "print('d=',d, '\\n d.shape=', d.shape)"
   ]
  },
  {
   "cell_type": "code",
   "execution_count": 20,
   "metadata": {},
   "outputs": [
    {
     "name": "stdout",
     "output_type": "stream",
     "text": [
      "g1= [[ 0.84147098  0.99749499  0.90929743  0.59847214  0.14112001 -0.35078323]\n",
      " [-0.7568025  -0.97753012 -0.95892427 -0.70554033 -0.2794155   0.21511999]\n",
      " [ 0.6569866   0.93799998  0.98935825  0.79848711  0.41211849 -0.07515112]] \n",
      " g1.shape= (3, 6)\n"
     ]
    },
    {
     "data": {
      "text/plain": [
       "array([[ 0.70807342,  0.99499625,  0.82682181,  0.35816891,  0.01991486,\n",
       "         0.12304887],\n",
       "       [ 0.57275002,  0.95556513,  0.91953576,  0.49778715,  0.07807302,\n",
       "         0.04627661],\n",
       "       [ 0.43163139,  0.87984396,  0.97882974,  0.63758167,  0.16984165,\n",
       "         0.00564769]])"
      ]
     },
     "execution_count": 20,
     "metadata": {},
     "output_type": "execute_result"
    }
   ],
   "source": [
    "g1=np.sin(c)\n",
    "print('g1=',g1, '\\n g1.shape=', g1.shape)\n",
    "g10 =g1*g1\n",
    "g10\n"
   ]
  },
  {
   "cell_type": "code",
   "execution_count": 21,
   "metadata": {},
   "outputs": [
    {
     "name": "stdout",
     "output_type": "stream",
     "text": [
      "f= [[ 1.  1.  1.  1.  1.  1.]\n",
      " [ 1.  1.  1.  1.  1.  1.]\n",
      " [ 1.  1.  1.  1.  1.  1.]]   f.shape= (3, 6)\n"
     ]
    }
   ],
   "source": [
    "f= (np.sin(c))**2 +(np.cos(c))**2\n",
    "print('f=',f, '  f.shape=', f.shape)"
   ]
  },
  {
   "cell_type": "code",
   "execution_count": 30,
   "metadata": {},
   "outputs": [
    {
     "name": "stdout",
     "output_type": "stream",
     "text": [
      "94.5 5.25 9.5 3 (3, 6)\n"
     ]
    }
   ],
   "source": [
    "print(c.sum(),c.mean(),c.max(),len(c),c.shape)"
   ]
  },
  {
   "cell_type": "code",
   "execution_count": 31,
   "metadata": {},
   "outputs": [
    {
     "data": {
      "text/plain": [
       "18.0"
      ]
     },
     "execution_count": 31,
     "metadata": {},
     "output_type": "execute_result"
    }
   ],
   "source": [
    "f.sum()"
   ]
  },
  {
   "cell_type": "code",
   "execution_count": 36,
   "metadata": {},
   "outputs": [
    {
     "data": {
      "text/plain": [
       "array([[  1.  ,   2.25,   4.  ,   6.25,   9.  ,  12.25],\n",
       "       [ 16.  ,  20.25,  25.  ,  30.25,  36.  ,  42.25],\n",
       "       [ 49.  ,  56.25,  64.  ,  72.25,  81.  ,  90.25]])"
      ]
     },
     "execution_count": 36,
     "metadata": {},
     "output_type": "execute_result"
    }
   ],
   "source": [
    "c**2"
   ]
  },
  {
   "cell_type": "code",
   "execution_count": 44,
   "metadata": {},
   "outputs": [
    {
     "name": "stdout",
     "output_type": "stream",
     "text": [
      "[[ 1.   1.5  2.   2.5  3.   3.5]\n",
      " [ 4.   4.5  5.   5.5  6.   6.5]\n",
      " [ 7.   7.5  8.   8.5  9.   9.5]]\n",
      "c[0]= [ 1.   1.5  2.   2.5  3.   3.5]\n",
      "c[2]= [ 7.   7.5  8.   8.5  9.   9.5]\n",
      "13.5\n",
      "49.5\n",
      "c[:0]= []\n",
      "c[:2]= [[ 1.   1.5  2.   2.5  3.   3.5]\n",
      " [ 4.   4.5  5.   5.5  6.   6.5]]\n",
      "0.0\n",
      "45.0\n",
      "c[:,0]= [ 1.  4.  7.]\n",
      "c[:,2]= [ 2.  5.  8.]\n",
      "c[:,4:6]= [[ 3.   3.5]\n",
      " [ 6.   6.5]\n",
      " [ 9.   9.5]]\n",
      "c[0:2,:]= [[ 1.   1.5  2.   2.5  3.   3.5]\n",
      " [ 4.   4.5  5.   5.5  6.   6.5]]\n",
      "c.sum()= 94.5\n"
     ]
    }
   ],
   "source": [
    "print(c)\n",
    "\n",
    "print('c[0]=',c[0])\n",
    "print('c[2]=',c[2])\n",
    "print(c[0].sum())\n",
    "print(c[2].sum())\n",
    "\n",
    "print('c[:0]=',c[:0])\n",
    "print('c[:2]=',c[:2])\n",
    "\n",
    "print(c[:0].sum())\n",
    "print(c[:2].sum())\n",
    "\n",
    "print('c[:,0]=',c[:,0])\n",
    "print('c[:,2]=',c[:,2])\n",
    "\n",
    "print('c[:,4:6]=',c[:,4:6])\n",
    "print('c[0:2,:]=',c[0:2,])\n",
    "\n",
    "print('c.sum()=',c.sum())\n"
   ]
  },
  {
   "cell_type": "code",
   "execution_count": 46,
   "metadata": {},
   "outputs": [
    {
     "data": {
      "text/plain": [
       "array([ 0.84147098,  0.99749499,  0.90929743,  0.59847214,  0.14112001,\n",
       "       -0.35078323, -0.7568025 , -0.97753012, -0.95892427, -0.70554033,\n",
       "       -0.2794155 ,  0.21511999,  0.6569866 ,  0.93799998,  0.98935825,\n",
       "        0.79848711,  0.41211849, -0.07515112])"
      ]
     },
     "execution_count": 46,
     "metadata": {},
     "output_type": "execute_result"
    }
   ],
   "source": [
    "g1"
   ]
  },
  {
   "cell_type": "code",
   "execution_count": 51,
   "metadata": {},
   "outputs": [
    {
     "data": {
      "text/plain": [
       "2.1077561907141753"
      ]
     },
     "execution_count": 51,
     "metadata": {},
     "output_type": "execute_result"
    }
   ],
   "source": [
    "(g1**5).sum()"
   ]
  }
 ],
 "metadata": {
  "kernelspec": {
   "display_name": "Python 3",
   "language": "python",
   "name": "python3"
  },
  "language_info": {
   "codemirror_mode": {
    "name": "ipython",
    "version": 3
   },
   "file_extension": ".py",
   "mimetype": "text/x-python",
   "name": "python",
   "nbconvert_exporter": "python",
   "pygments_lexer": "ipython3",
   "version": "3.6.3"
  },
  "toc": {
   "base_numbering": 1,
   "nav_menu": {},
   "number_sections": true,
   "sideBar": true,
   "skip_h1_title": false,
   "title_cell": "Table of Contents",
   "title_sidebar": "Contents",
   "toc_cell": false,
   "toc_position": {},
   "toc_section_display": true,
   "toc_window_display": true
  },
  "varInspector": {
   "cols": {
    "lenName": 16,
    "lenType": 16,
    "lenVar": 40
   },
   "kernels_config": {
    "python": {
     "delete_cmd_postfix": "",
     "delete_cmd_prefix": "del ",
     "library": "var_list.py",
     "varRefreshCmd": "print(var_dic_list())"
    },
    "r": {
     "delete_cmd_postfix": ") ",
     "delete_cmd_prefix": "rm(",
     "library": "var_list.r",
     "varRefreshCmd": "cat(var_dic_list()) "
    }
   },
   "types_to_exclude": [
    "module",
    "function",
    "builtin_function_or_method",
    "instance",
    "_Feature"
   ],
   "window_display": false
  }
 },
 "nbformat": 4,
 "nbformat_minor": 2
}
